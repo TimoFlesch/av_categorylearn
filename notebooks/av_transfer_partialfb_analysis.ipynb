{
 "cells": [
  {
   "cell_type": "code",
   "execution_count": null,
   "metadata": {},
   "outputs": [],
   "source": [
    "%load_ext autoreload\n",
    "%autoreload 2\n",
    "import warnings\n",
    "warnings.filterwarnings('ignore')\n",
    "import os \n",
    "import sys \n",
    "import pickle\n",
    "root_path = os.path.realpath('../')\n",
    "sys.path.append(root_path)\n",
    "\n",
    "from utils.parser import parse_alldata\n",
    "from utils.analysis import print_testacc, print_ttest_acc, compute_choicemats, fit_sigmoids_to_choices, gen_choicemodelrdms, stats_fit_choicerdms,fit_model_to_subjects, arena_compute_rdms\n",
    "from utils.plotting import disp_accuracy, disp_lcurves, disp_sigmoid_fits, disp_param_estimates, disp_choicemats, disp_rsa_param_estimates, disp_model_estimates, disp_lcurves_test\n"
   ]
  },
  {
   "cell_type": "markdown",
   "metadata": {},
   "source": [
    "## Parameters"
   ]
  },
  {
   "cell_type": "code",
   "execution_count": null,
   "metadata": {},
   "outputs": [],
   "source": [
    "# set a few parameters \n",
    "%matplotlib qt\n",
    "working_dir = os.getcwd()\n",
    "data_dir = working_dir + \"/../data/animals_vehicles_3_transfer_partialfb/\"\n",
    "\n",
    "domains = ['animals','vehicles']\n",
    "curricula = ['blocked','interleaved']\n",
    "\n"
   ]
  },
  {
   "cell_type": "markdown",
   "metadata": {},
   "source": [
    "# Data Import"
   ]
  },
  {
   "cell_type": "code",
   "execution_count": null,
   "metadata": {},
   "outputs": [],
   "source": [
    "# parse data \n",
    "try:\n",
    "    with open(data_dir+\"parsed/\"+\"animals_vehicles_transfer_pfb.pkl\",\"rb\") as f:\n",
    "        alldata = pickle.load(f)\n",
    "except FileNotFoundError:\n",
    "    alldata = parse_alldata(data_dir+\"raw/\",transfertask=True, arenatask=True)\n",
    "    from utils.parser import boundary_to_nan\n",
    "    alldata = boundary_to_nan(alldata)\n",
    "    with open(data_dir+\"parsed/\"+\"animals_vehicles_transfer_pfb.pkl\",\"wb\") as f:\n",
    "        pickle.dump(alldata,f)\n",
    "    \n"
   ]
  },
  {
   "cell_type": "markdown",
   "metadata": {},
   "source": [
    "# Analysis"
   ]
  },
  {
   "cell_type": "markdown",
   "metadata": {},
   "source": [
    "## Accuracy"
   ]
  },
  {
   "cell_type": "markdown",
   "metadata": {},
   "source": [
    "### accuracy differences between groups at test"
   ]
  },
  {
   "cell_type": "code",
   "execution_count": null,
   "metadata": {},
   "outputs": [],
   "source": [
    "\n",
    "print_testacc(alldata,onlygood=True, whichtask=\"base\")\n",
    "print_ttest_acc(alldata, onlygood=True, whichtask=\"base\")\n",
    "print('\\n')\n",
    "print_testacc(alldata,onlygood=True, whichtask=\"transfer\")\n",
    "print_ttest_acc(alldata, onlygood=True, whichtask=\"transfer\")"
   ]
  },
  {
   "cell_type": "code",
   "execution_count": null,
   "metadata": {},
   "outputs": [],
   "source": [
    "# plot test accuracy\n",
    "disp_accuracy(alldata,'animals',whichtask=\"base\")\n",
    "disp_accuracy(alldata,'vehicles',whichtask=\"base\")\n",
    "        \n",
    "disp_accuracy(alldata,'animals',whichtask=\"transfer\")\n",
    "disp_accuracy(alldata,'vehicles',whichtask=\"transfer\")\n"
   ]
  },
  {
   "cell_type": "code",
   "execution_count": null,
   "metadata": {},
   "outputs": [],
   "source": [
    "# learning curves\n",
    "disp_lcurves(alldata,onlygood=True)"
   ]
  },
  {
   "cell_type": "code",
   "execution_count": null,
   "metadata": {},
   "outputs": [],
   "source": [
    "disp_lcurves_test(alldata,onlygood=True, whichtask=\"base\")"
   ]
  },
  {
   "cell_type": "code",
   "execution_count": null,
   "metadata": {},
   "outputs": [],
   "source": [
    "disp_lcurves_test(alldata,onlygood=True, whichtask=\"transfer\")"
   ]
  },
  {
   "cell_type": "markdown",
   "metadata": {},
   "source": [
    "## Choice Patterns"
   ]
  },
  {
   "cell_type": "code",
   "execution_count": null,
   "metadata": {},
   "outputs": [],
   "source": [
    "choicemats = compute_choicemats(alldata, whichtask=\"base\")"
   ]
  },
  {
   "cell_type": "markdown",
   "metadata": {},
   "source": [
    "### display sigmoids for rel and irrel dimensions "
   ]
  },
  {
   "cell_type": "code",
   "execution_count": null,
   "metadata": {},
   "outputs": [],
   "source": [
    "choicemats = compute_choicemats(alldata, whichtask=\"base\")\n",
    "betas = fit_sigmoids_to_choices(choicemats,onlygood=True, fitlapse=False)\n",
    "disp_sigmoid_fits(choicemats,betas, onlygood=True)\n",
    "# stats on estimated slopes\n",
    "disp_param_estimates(betas,onlygood=True)"
   ]
  },
  {
   "cell_type": "code",
   "execution_count": null,
   "metadata": {},
   "outputs": [],
   "source": [
    "choicemats = compute_choicemats(alldata, whichtask=\"transfer\")\n",
    "betas = fit_sigmoids_to_choices(choicemats,onlygood=True, fitlapse=False)\n",
    "disp_sigmoid_fits(choicemats,betas, onlygood=True)\n",
    "# stats on estimated slopes\n",
    "disp_param_estimates(betas,onlygood=True)"
   ]
  },
  {
   "cell_type": "markdown",
   "metadata": {},
   "source": [
    "### display full choice matrices"
   ]
  },
  {
   "cell_type": "code",
   "execution_count": null,
   "metadata": {},
   "outputs": [],
   "source": [
    "choicemats = compute_choicemats(alldata, whichtask=\"base\")\n",
    "disp_choicemats(choicemats,onlygood=True,whichtask=\"base\")"
   ]
  },
  {
   "cell_type": "code",
   "execution_count": null,
   "metadata": {},
   "outputs": [],
   "source": [
    "choicemats = compute_choicemats(alldata, whichtask=\"transfer\")\n",
    "disp_choicemats(choicemats,onlygood=True,whichtask=\"transfer\")"
   ]
  },
  {
   "cell_type": "markdown",
   "metadata": {},
   "source": [
    "## Choice Pattern RSA\n"
   ]
  },
  {
   "cell_type": "code",
   "execution_count": null,
   "metadata": {},
   "outputs": [],
   "source": [
    "_ = gen_choicemodelrdms(monitor=True)"
   ]
  },
  {
   "cell_type": "code",
   "execution_count": null,
   "metadata": {},
   "outputs": [],
   "source": [
    "choicemats = compute_choicemats(alldata, whichtask=\"base\")\n",
    "betas = stats_fit_choicerdms(choicemats,onlygood=True)\n",
    "disp_rsa_param_estimates(betas,onlygood=True)"
   ]
  },
  {
   "cell_type": "code",
   "execution_count": null,
   "metadata": {},
   "outputs": [],
   "source": [
    "choicemats = compute_choicemats(alldata, whichtask=\"transfer\")\n",
    "betas = stats_fit_choicerdms(choicemats,onlygood=True)\n",
    "disp_rsa_param_estimates(betas,onlygood=True)"
   ]
  },
  {
   "cell_type": "markdown",
   "metadata": {},
   "source": [
    "## Choice Model\n"
   ]
  },
  {
   "cell_type": "code",
   "execution_count": null,
   "metadata": {},
   "outputs": [],
   "source": [
    "choicemats = compute_choicemats(alldata, whichtask=\"base\")\n",
    "thetas = fit_model_to_subjects(choicemats,onlygood=True)"
   ]
  },
  {
   "cell_type": "code",
   "execution_count": null,
   "metadata": {},
   "outputs": [],
   "source": [
    "# stats on estimated slopes\n",
    "disp_model_estimates(thetas)"
   ]
  },
  {
   "cell_type": "code",
   "execution_count": null,
   "metadata": {},
   "outputs": [],
   "source": [
    "choicemats = compute_choicemats(alldata, whichtask=\"transfer\")\n",
    "thetas = fit_model_to_subjects(choicemats,onlygood=True)\n",
    "# stats on estimated slopes\n",
    "disp_model_estimates(thetas)"
   ]
  },
  {
   "cell_type": "markdown",
   "metadata": {},
   "source": [
    "## Arena task data"
   ]
  },
  {
   "cell_type": "markdown",
   "metadata": {},
   "source": [
    "- build RDMs from single subject responses (25x25), separately for each trial\n",
    "- mds: size/speed as scatter plot"
   ]
  },
  {
   "cell_type": "code",
   "execution_count": null,
   "metadata": {},
   "outputs": [],
   "source": [
    "alldata[\"animals\"][\"blocked\"][\"arena_coords\"].shape"
   ]
  },
  {
   "cell_type": "code",
   "execution_count": null,
   "metadata": {},
   "outputs": [],
   "source": [
    "alldata[\"animals\"][\"blocked\"][\"arena_coords\"].shape"
   ]
  },
  {
   "cell_type": "code",
   "execution_count": null,
   "metadata": {},
   "outputs": [],
   "source": [
    "import matplotlib.pyplot as plt\n",
    "# from utils.analysis import arena_compute_rdms\n",
    "rdms = arena_compute_rdms(alldata)"
   ]
  },
  {
   "cell_type": "code",
   "execution_count": null,
   "metadata": {},
   "outputs": [],
   "source": [
    "\n",
    "plt.figure()\n",
    "plt.subplot(2,2,1)\n",
    "plt.imshow(rdms[\"animals\"][\"blocked\"][:,:2,:,:].mean(1).mean(0))\n",
    "plt.title(\"animals - blocked - speed task\")\n",
    "cb = plt.colorbar()\n",
    "cb.set_label(\"dissimilarity\")\n",
    "\n",
    "plt.subplot(2,2,2)\n",
    "plt.imshow(rdms[\"animals\"][\"blocked\"][:,2:,:,:].mean(1).mean(0))\n",
    "plt.title(\"animals - blocked - size task\")\n",
    "cb = plt.colorbar()\n",
    "cb.set_label(\"dissimilarity\")\n",
    "\n",
    "plt.subplot(2,2,3)\n",
    "plt.imshow(rdms[\"animals\"][\"interleaved\"][:,:2,:,:].mean(1).mean(0))\n",
    "plt.title(\"animals - interleaved - speed task\")\n",
    "cb = plt.colorbar()\n",
    "cb.set_label(\"dissimilarity\")\n",
    "\n",
    "plt.subplot(2,2,4)\n",
    "plt.imshow(rdms[\"animals\"][\"interleaved\"][:,2:,:,:].mean(1).mean(0))\n",
    "plt.title(\"animals - interleaved - size task\")\n",
    "cb = plt.colorbar()\n",
    "cb.set_label(\"dissimilarity\")\n",
    "plt.tight_layout()\n"
   ]
  },
  {
   "cell_type": "code",
   "execution_count": null,
   "metadata": {},
   "outputs": [],
   "source": [
    "\n",
    "plt.figure()\n",
    "plt.subplot(2,2,1)\n",
    "plt.imshow(rdms[\"vehicles\"][\"blocked\"][:,:2,:,:].mean(1).mean(0))\n",
    "plt.title(\"vehicles - blocked - speed task\")\n",
    "cb = plt.colorbar()\n",
    "cb.set_label(\"dissimilarity\")\n",
    "\n",
    "plt.subplot(2,2,2)\n",
    "plt.imshow(rdms[\"vehicles\"][\"blocked\"][:,2:,:,:].mean(1).mean(0))\n",
    "plt.title(\"vehicles - blocked - size task\")\n",
    "cb = plt.colorbar()\n",
    "cb.set_label(\"dissimilarity\")\n",
    "\n",
    "plt.subplot(2,2,3)\n",
    "plt.imshow(rdms[\"vehicles\"][\"interleaved\"][:,:2,:,:].mean(1).mean(0))\n",
    "plt.title(\"vehicles - interleaved - speed task\")\n",
    "cb = plt.colorbar()\n",
    "cb.set_label(\"dissimilarity\")\n",
    "\n",
    "plt.subplot(2,2,4)\n",
    "plt.imshow(rdms[\"vehicles\"][\"interleaved\"][:,2:,:,:].mean(1).mean(0))\n",
    "plt.title(\"vehicles - interleaved - size task\")\n",
    "cb = plt.colorbar()\n",
    "cb.set_label(\"dissimilarity\")\n",
    "plt.tight_layout()\n"
   ]
  },
  {
   "cell_type": "markdown",
   "metadata": {},
   "source": [
    "## Todo list\n",
    "check for evidence of transfer: choice matrix regression with patterns from base as predictors of patterns of transfer task"
   ]
  },
  {
   "cell_type": "markdown",
   "metadata": {},
   "source": []
  }
 ],
 "metadata": {
  "interpreter": {
   "hash": "64f815fd2451323d4058f316d300a9f90cf7498de98c2d0f836409ae17c2e5a0"
  },
  "kernelspec": {
   "display_name": "Python 3",
   "language": "python",
   "name": "python3"
  },
  "language_info": {
   "codemirror_mode": {
    "name": "ipython",
    "version": 3
   },
   "file_extension": ".py",
   "mimetype": "text/x-python",
   "name": "python",
   "nbconvert_exporter": "python",
   "pygments_lexer": "ipython3",
   "version": "3.9.7"
  }
 },
 "nbformat": 4,
 "nbformat_minor": 2
}
