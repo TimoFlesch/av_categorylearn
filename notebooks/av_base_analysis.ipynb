{
 "cells": [
  {
   "cell_type": "code",
   "execution_count": 1,
   "metadata": {},
   "outputs": [],
   "source": [
    "%load_ext autoreload\n",
    "%autoreload 2\n",
    "import warnings\n",
    "warnings.filterwarnings('ignore')\n",
    "import os \n",
    "import sys \n",
    "import pickle\n",
    "import numpy as np\n",
    "import matplotlib.pyplot as plt\n",
    "plt.rcParams['svg.fonttype'] = 'none'\n",
    "plt.rcParams['pdf.fonttype'] = 42\n",
    "root_path = os.path.realpath('../')\n",
    "sys.path.append(root_path)\n",
    "\n",
    "\n",
    "from utils.parser import parse_alldata\n",
    "from utils.analysis import print_testacc, print_ttest_acc, compute_choicemats, fit_sigmoids_to_choices, gen_choicemodelrdms, stats_fit_choicerdms,fit_model_to_subjects\n",
    "from utils.plotting import disp_accuracy, disp_lcurves, disp_sigmoid_fits, disp_param_estimates, disp_choicemats, disp_rsa_param_estimates, disp_model_estimates\n"
   ]
  },
  {
   "cell_type": "markdown",
   "metadata": {},
   "source": [
    "## Parameters"
   ]
  },
  {
   "cell_type": "code",
   "execution_count": 2,
   "metadata": {},
   "outputs": [],
   "source": [
    "# set a few parameters \n",
    "%matplotlib inline\n",
    "working_dir = os.getcwd()\n",
    "data_dir = working_dir + \"/../data/animals_vehicles_1_base/\"\n",
    "\n",
    "domains = ['animals','vehicles']\n",
    "curricula = ['blocked','interleaved']\n"
   ]
  },
  {
   "cell_type": "markdown",
   "metadata": {},
   "source": [
    "# Data Import"
   ]
  },
  {
   "cell_type": "code",
   "execution_count": 3,
   "metadata": {},
   "outputs": [],
   "source": [
    "# parse data \n",
    "try:\n",
    "    with open(data_dir+\"parsed/\"+\"animals_vehicles_pilot.pkl\",\"rb\") as f:\n",
    "        alldata = pickle.load(f)\n",
    "except FileNotFoundError:\n",
    "    alldata = parse_alldata(data_dir+\"raw/\")\n",
    "    from utils.parser import boundary_to_nan\n",
    "    alldata = boundary_to_nan(alldata)\n",
    "    with open(data_dir+\"parsed/\"+\"animals_vehicles_pilot.pkl\",\"wb\") as f:\n",
    "        pickle.dump(alldata,f)\n",
    "    \n"
   ]
  },
  {
   "cell_type": "code",
   "execution_count": null,
   "metadata": {},
   "outputs": [],
   "source": []
  },
  {
   "cell_type": "code",
   "execution_count": 15,
   "metadata": {},
   "outputs": [
    {
     "name": "stdout",
     "output_type": "stream",
     "text": [
      ", n = 400, average age: 26.914786967418546\n",
      "{'female': 264, 'male': 130, 'other': 5, 'pref_not_say': 1}\n"
     ]
    }
   ],
   "source": [
    "import numpy as np\n",
    "genders = {}\n",
    "ages = []\n",
    "domains = [\"animals\", \"vehicles\"]\n",
    "curricula = [\"blocked\", \"interleaved\"]\n",
    "for dom in domains:\n",
    "    for cur in curricula:\n",
    "        for age in alldata[dom][cur][\"participant_age\"]:\n",
    "            if age == \"21-30\":\n",
    "                age = 25\n",
    "            elif age == \"31-40\":\n",
    "                age = 35\n",
    "            elif age == \"18-20\":\n",
    "                age = 19\n",
    "            else:\n",
    "                age = np.nan\n",
    "            ages.append(age)\n",
    "        for gender in alldata[dom][cur][\"participant_sex\"]:\n",
    "            if gender in genders:\n",
    "                genders[gender] +=1\n",
    "            else:\n",
    "                genders[gender] = 1\n",
    "\n",
    "print(f\", n = {len(ages)}, average age: {np.nanmean(ages)}\")\n",
    "print(genders)\n"
   ]
  },
  {
   "cell_type": "code",
   "execution_count": 14,
   "metadata": {},
   "outputs": [
    {
     "data": {
      "text/plain": [
       "[25,\n",
       " 25,\n",
       " 19,\n",
       " 25,\n",
       " 35,\n",
       " 35,\n",
       " 25,\n",
       " 25,\n",
       " 35,\n",
       " 25,\n",
       " 19,\n",
       " 25,\n",
       " 35,\n",
       " 19,\n",
       " 19,\n",
       " 19,\n",
       " 25,\n",
       " 19,\n",
       " 19,\n",
       " 25,\n",
       " 35,\n",
       " 35,\n",
       " 19,\n",
       " 25,\n",
       " 25,\n",
       " 25,\n",
       " 25,\n",
       " 25,\n",
       " 25,\n",
       " 25,\n",
       " 19,\n",
       " 25,\n",
       " 35,\n",
       " 25,\n",
       " 19,\n",
       " 25,\n",
       " 35,\n",
       " 35,\n",
       " 35,\n",
       " 19,\n",
       " 25,\n",
       " 19,\n",
       " 35,\n",
       " 25,\n",
       " 35,\n",
       " 25,\n",
       " 25,\n",
       " 25,\n",
       " 35,\n",
       " 35,\n",
       " 19,\n",
       " 25,\n",
       " 25,\n",
       " 35,\n",
       " 25,\n",
       " 35,\n",
       " 25,\n",
       " 25,\n",
       " 35,\n",
       " 25,\n",
       " 19,\n",
       " 35,\n",
       " 19,\n",
       " 25,\n",
       " 35,\n",
       " 25,\n",
       " 25,\n",
       " 25,\n",
       " 25,\n",
       " 35,\n",
       " 25,\n",
       " 19,\n",
       " 25,\n",
       " 35,\n",
       " 35,\n",
       " 35,\n",
       " 35,\n",
       " 35,\n",
       " 25,\n",
       " 25,\n",
       " 19,\n",
       " 25,\n",
       " 35,\n",
       " 25,\n",
       " 35,\n",
       " 35,\n",
       " 19,\n",
       " 35,\n",
       " 19,\n",
       " 35,\n",
       " 25,\n",
       " 35,\n",
       " 25,\n",
       " 19,\n",
       " 35,\n",
       " 35,\n",
       " 25,\n",
       " 25,\n",
       " 25,\n",
       " 19,\n",
       " 19,\n",
       " 25,\n",
       " 25,\n",
       " 19,\n",
       " 25,\n",
       " 35,\n",
       " 35,\n",
       " 35,\n",
       " 35,\n",
       " 25,\n",
       " 25,\n",
       " 35,\n",
       " 35,\n",
       " 25,\n",
       " 25,\n",
       " 25,\n",
       " 19,\n",
       " 25,\n",
       " 25,\n",
       " 25,\n",
       " 25,\n",
       " 25,\n",
       " 35,\n",
       " 19,\n",
       " 25,\n",
       " 19,\n",
       " 25,\n",
       " 25,\n",
       " 19,\n",
       " 19,\n",
       " 25,\n",
       " 25,\n",
       " 35,\n",
       " 25,\n",
       " 35,\n",
       " 25,\n",
       " 35,\n",
       " 25,\n",
       " 19,\n",
       " 25,\n",
       " 25,\n",
       " 19,\n",
       " 25,\n",
       " 35,\n",
       " 35,\n",
       " 25,\n",
       " 25,\n",
       " 35,\n",
       " 19,\n",
       " 35,\n",
       " 25,\n",
       " 35,\n",
       " 19,\n",
       " 35,\n",
       " 25,\n",
       " 35,\n",
       " 35,\n",
       " 19,\n",
       " 35,\n",
       " 35,\n",
       " 35,\n",
       " 35,\n",
       " 25,\n",
       " 19,\n",
       " 25,\n",
       " 25,\n",
       " 35,\n",
       " 25,\n",
       " 25,\n",
       " 25,\n",
       " 35,\n",
       " 25,\n",
       " 25,\n",
       " 25,\n",
       " 19,\n",
       " 25,\n",
       " 25,\n",
       " 35,\n",
       " 35,\n",
       " 19,\n",
       " 25,\n",
       " 25,\n",
       " 35,\n",
       " 35,\n",
       " 25,\n",
       " 25,\n",
       " 35,\n",
       " 19,\n",
       " 25,\n",
       " 25,\n",
       " 25,\n",
       " 19,\n",
       " 19,\n",
       " 25,\n",
       " 19,\n",
       " 25,\n",
       " 25,\n",
       " 25,\n",
       " 25,\n",
       " 19,\n",
       " 25,\n",
       " 25,\n",
       " 25,\n",
       " 35,\n",
       " 25,\n",
       " 19,\n",
       " 19,\n",
       " 35,\n",
       " 25,\n",
       " 25,\n",
       " 19,\n",
       " 19,\n",
       " 35,\n",
       " 25,\n",
       " 35,\n",
       " 25,\n",
       " 25,\n",
       " 25,\n",
       " 35,\n",
       " 25,\n",
       " 35,\n",
       " 25,\n",
       " 35,\n",
       " 35,\n",
       " 35,\n",
       " 19,\n",
       " 25,\n",
       " 35,\n",
       " 25,\n",
       " 35,\n",
       " 35,\n",
       " 19,\n",
       " 35,\n",
       " 25,\n",
       " 25,\n",
       " 25,\n",
       " 25,\n",
       " 25,\n",
       " 35,\n",
       " 25,\n",
       " 35,\n",
       " 25,\n",
       " 35,\n",
       " 25,\n",
       " 35,\n",
       " 35,\n",
       " 25,\n",
       " 19,\n",
       " 25,\n",
       " 19,\n",
       " 19,\n",
       " 25,\n",
       " 19,\n",
       " 19,\n",
       " 35,\n",
       " 25,\n",
       " 35,\n",
       " 25,\n",
       " 19,\n",
       " 19,\n",
       " 25,\n",
       " 35,\n",
       " 35,\n",
       " 35,\n",
       " 19,\n",
       " 19,\n",
       " 35,\n",
       " 19,\n",
       " 25,\n",
       " 35,\n",
       " 25,\n",
       " 25,\n",
       " 19,\n",
       " 19,\n",
       " 25,\n",
       " 19,\n",
       " 19,\n",
       " 25,\n",
       " 19,\n",
       " 35,\n",
       " 25,\n",
       " 25,\n",
       " 35,\n",
       " 25,\n",
       " 'pref_not_say',\n",
       " 35,\n",
       " 25,\n",
       " 35,\n",
       " 25,\n",
       " 35,\n",
       " 25,\n",
       " 25,\n",
       " 35,\n",
       " 25,\n",
       " 25,\n",
       " 25,\n",
       " 19,\n",
       " 35,\n",
       " 25,\n",
       " 19,\n",
       " 19,\n",
       " 35,\n",
       " 19,\n",
       " 25,\n",
       " 25,\n",
       " 25,\n",
       " 25,\n",
       " 35,\n",
       " 35,\n",
       " 25,\n",
       " 35,\n",
       " 35,\n",
       " 35,\n",
       " 35,\n",
       " 25,\n",
       " 25,\n",
       " 35,\n",
       " 35,\n",
       " 25,\n",
       " 35,\n",
       " 19,\n",
       " 35,\n",
       " 25,\n",
       " 35,\n",
       " 25,\n",
       " 35,\n",
       " 25,\n",
       " 25,\n",
       " 35,\n",
       " 25,\n",
       " 25,\n",
       " 25,\n",
       " 35,\n",
       " 25,\n",
       " 35,\n",
       " 25,\n",
       " 35,\n",
       " 25,\n",
       " 19,\n",
       " 25,\n",
       " 25,\n",
       " 25,\n",
       " 19,\n",
       " 35,\n",
       " 25,\n",
       " 35,\n",
       " 25,\n",
       " 19,\n",
       " 19,\n",
       " 25,\n",
       " 19,\n",
       " 25,\n",
       " 25,\n",
       " 25,\n",
       " 25,\n",
       " 19,\n",
       " 25,\n",
       " 35,\n",
       " 19,\n",
       " 25,\n",
       " 25,\n",
       " 25,\n",
       " 19,\n",
       " 25,\n",
       " 25,\n",
       " 25,\n",
       " 19,\n",
       " 25,\n",
       " 35,\n",
       " 35,\n",
       " 35,\n",
       " 25,\n",
       " 25,\n",
       " 25,\n",
       " 35,\n",
       " 25,\n",
       " 25,\n",
       " 25,\n",
       " 25,\n",
       " 19,\n",
       " 25,\n",
       " 25,\n",
       " 25,\n",
       " 19,\n",
       " 25,\n",
       " 25,\n",
       " 25,\n",
       " 35,\n",
       " 35,\n",
       " 35,\n",
       " 35,\n",
       " 25,\n",
       " 19,\n",
       " 19,\n",
       " 25,\n",
       " 19,\n",
       " 35,\n",
       " 25,\n",
       " 35,\n",
       " 35]"
      ]
     },
     "execution_count": 14,
     "metadata": {},
     "output_type": "execute_result"
    }
   ],
   "source": [
    "import numpy as np\n"
   ]
  },
  {
   "cell_type": "markdown",
   "metadata": {},
   "source": [
    "# Analysis"
   ]
  },
  {
   "cell_type": "markdown",
   "metadata": {},
   "source": [
    "## Accuracy"
   ]
  },
  {
   "cell_type": "code",
   "execution_count": 4,
   "metadata": {},
   "outputs": [],
   "source": [
    "# if desired, kick out bad subjects based on training performance\n",
    "from copy import deepcopy\n",
    "goodData = deepcopy(alldata)\n",
    "doms = [\"animals\",\"vehicles\"]\n",
    "curricula = [\"blocked\",\"interleaved\"]\n",
    "for d in doms:\n",
    "    for c in curricula:\n",
    "        badsubs = np.nanmean(goodData[d][c][\"resp_correct\"][:,:400], 1) <0.5 # training auccuracy below 55 % \n",
    "        \n",
    "        for k, v in goodData[d][c].items():\n",
    "            goodData[d][c][k] = list(np.array(v)[badsubs==False]) if type(v)==list else v[badsubs==False]\n",
    "\n",
    "alldata =goodData"
   ]
  },
  {
   "cell_type": "markdown",
   "metadata": {},
   "source": [
    "### calculate accuracy and test for between group differences"
   ]
  },
  {
   "cell_type": "code",
   "execution_count": 5,
   "metadata": {},
   "outputs": [
    {
     "name": "stdout",
     "output_type": "stream",
     "text": [
      "** Accuracy on base task **\n",
      "only good subjects (n=89): animals, blocked: 0.80\n",
      "only good subjects (n=88): animals, interleaved: 0.77\n",
      "only good subjects (n=93): vehicles, blocked: 0.83\n",
      "only good subjects (n=90): vehicles, interleaved: 0.84\n",
      "** mann whitney u on base task **\n",
      "only good subjects: animals, blocked vs interleaved: t(177)= 1.271  p= 0.205\n",
      "only good subjects: vehicles, blocked vs interleaved: t(183)= -0.189  p= 0.850\n",
      "\n",
      "\n"
     ]
    }
   ],
   "source": [
    "\n",
    "print_testacc(alldata,onlygood=True, whichtask=\"base\")\n",
    "print_ttest_acc(alldata, onlygood=True, whichtask=\"base\")\n",
    "print('\\n')\n"
   ]
  },
  {
   "cell_type": "code",
   "execution_count": 81,
   "metadata": {},
   "outputs": [],
   "source": [
    "# plot test accuracy\n",
    "disp_accuracy(alldata,'animals')\n",
    "disp_accuracy(alldata,'vehicles')\n",
    "        \n"
   ]
  },
  {
   "cell_type": "code",
   "execution_count": 22,
   "metadata": {},
   "outputs": [
    {
     "data": {
      "text/plain": [
       "array([6., 4.])"
      ]
     },
     "execution_count": 22,
     "metadata": {},
     "output_type": "execute_result"
    },
    {
     "data": {
      "text/plain": [
       "<Figure size 432x288 with 0 Axes>"
      ]
     },
     "metadata": {},
     "output_type": "display_data"
    }
   ],
   "source": [
    "f = plt.gcf()\n",
    "f.get_size_inches()"
   ]
  },
  {
   "cell_type": "code",
   "execution_count": 82,
   "metadata": {},
   "outputs": [],
   "source": [
    "# learning curves\n",
    "disp_lcurves(alldata)\n",
    "\n"
   ]
  },
  {
   "cell_type": "markdown",
   "metadata": {},
   "source": [
    "## Choice Patterns"
   ]
  },
  {
   "cell_type": "code",
   "execution_count": 6,
   "metadata": {},
   "outputs": [],
   "source": [
    "choicemats = compute_choicemats(alldata)"
   ]
  },
  {
   "cell_type": "markdown",
   "metadata": {},
   "source": [
    "### display sigmoids for rel and irrel dimensions "
   ]
  },
  {
   "cell_type": "code",
   "execution_count": 7,
   "metadata": {},
   "outputs": [
    {
     "name": "stdout",
     "output_type": "stream",
     "text": [
      "(2, 89, 5)\n",
      "(2, 88, 5)\n",
      "(2, 93, 5)\n",
      "(2, 90, 5)\n"
     ]
    },
    {
     "data": {
      "image/png": "[encoded data removed]",
      "text/plain": [
       "<Figure size 274.32x274.32 with 1 Axes>"
      ]
     },
     "metadata": {
      "needs_background": "light"
     },
     "output_type": "display_data"
    },
    {
     "data": {
      "image/png": "[encoded data removed]",
      "text/plain": [
       "<Figure size 274.32x274.32 with 1 Axes>"
      ]
     },
     "metadata": {
      "needs_background": "light"
     },
     "output_type": "display_data"
    }
   ],
   "source": [
    "betas = fit_sigmoids_to_choices(choicemats,onlygood=True,fitlapse=False)\n",
    "disp_sigmoid_fits(choicemats,betas, onlygood=True)"
   ]
  },
  {
   "cell_type": "code",
   "execution_count": 10,
   "metadata": {},
   "outputs": [
    {
     "data": {
      "image/png": "[encoded data removed]",
      "text/plain": [
       "<Figure size 432x216 with 2 Axes>"
      ]
     },
     "metadata": {
      "needs_background": "light"
     },
     "output_type": "display_data"
    },
    {
     "data": {
      "image/png": "[encoded data removed]",
      "text/plain": [
       "<Figure size 432x216 with 2 Axes>"
      ]
     },
     "metadata": {
      "needs_background": "light"
     },
     "output_type": "display_data"
    },
    {
     "data": {
      "image/png": "[encoded data removed]",
      "text/plain": [
       "<Figure size 432x216 with 2 Axes>"
      ]
     },
     "metadata": {
      "needs_background": "light"
     },
     "output_type": "display_data"
    },
    {
     "data": {
      "image/png": "[encoded data removed]",
      "text/plain": [
       "<Figure size 432x216 with 2 Axes>"
      ]
     },
     "metadata": {
      "needs_background": "light"
     },
     "output_type": "display_data"
    }
   ],
   "source": [
    "# stats on estimated slopes\n",
    "%matplotlib inline\n",
    "disp_param_estimates(betas,onlygood=True)"
   ]
  },
  {
   "cell_type": "markdown",
   "metadata": {},
   "source": [
    "### display full choice matrices"
   ]
  },
  {
   "cell_type": "code",
   "execution_count": 11,
   "metadata": {},
   "outputs": [
    {
     "data": {
      "image/png": "[encoded data removed]",
      "text/plain": [
       "<Figure size 360x360 with 4 Axes>"
      ]
     },
     "metadata": {
      "needs_background": "light"
     },
     "output_type": "display_data"
    },
    {
     "data": {
      "image/png": "[encoded data removed]",
      "text/plain": [
       "<Figure size 360x360 with 4 Axes>"
      ]
     },
     "metadata": {
      "needs_background": "light"
     },
     "output_type": "display_data"
    }
   ],
   "source": [
    "disp_choicemats(choicemats,onlygood=True)"
   ]
  },
  {
   "cell_type": "markdown",
   "metadata": {},
   "source": [
    "## Choice Pattern RSA\n"
   ]
  },
  {
   "cell_type": "code",
   "execution_count": 57,
   "metadata": {},
   "outputs": [
    {
     "data": {
      "image/png": "[encoded data removed]",
      "text/plain": [
       "<Figure size 360x180 with 2 Axes>"
      ]
     },
     "metadata": {
      "needs_background": "light"
     },
     "output_type": "display_data"
    },
    {
     "data": {
      "image/png": "[encoded data removed]",
      "text/plain": [
       "<Figure size 360x180 with 2 Axes>"
      ]
     },
     "metadata": {
      "needs_background": "light"
     },
     "output_type": "display_data"
    }
   ],
   "source": [
    "_ = gen_choicemodelrdms(monitor=True)"
   ]
  },
  {
   "cell_type": "code",
   "execution_count": 13,
   "metadata": {},
   "outputs": [
    {
     "name": "stdout",
     "output_type": "stream",
     "text": [
      "(89, 1)\n",
      "(89, 1)\n",
      "(93, 1)\n",
      "(93, 1)\n"
     ]
    }
   ],
   "source": [
    "%matplotlib qt\n",
    "betas = stats_fit_choicerdms(choicemats,onlygood=True)\n",
    "disp_rsa_param_estimates(betas,onlygood=True)"
   ]
  },
  {
   "cell_type": "markdown",
   "metadata": {},
   "source": [
    "## Choice Model\n"
   ]
  },
  {
   "cell_type": "code",
   "execution_count": null,
   "metadata": {},
   "outputs": [],
   "source": [
    "thetas = fit_model_to_subjects(choicemats,onlygood=True,n_runs=50)"
   ]
  },
  {
   "cell_type": "code",
   "execution_count": 87,
   "metadata": {},
   "outputs": [],
   "source": [
    "# stats on estimated slopes\n",
    "disp_model_estimates(thetas)"
   ]
  },
  {
   "cell_type": "code",
   "execution_count": null,
   "metadata": {},
   "outputs": [],
   "source": []
  }
 ],
 "metadata": {
  "interpreter": {
   "hash": "36250191a0faece4adb4f0fdbb1899e89a4489795041bad9e650cc2aedc4dc3c"
  },
  "kernelspec": {
   "display_name": "Python 3.9.7 ('animalsvehicles')",
   "language": "python",
   "name": "python3"
  },
  "language_info": {
   "codemirror_mode": {
    "name": "ipython",
    "version": 3
   },
   "file_extension": ".py",
   "mimetype": "text/x-python",
   "name": "python",
   "nbconvert_exporter": "python",
   "pygments_lexer": "ipython3",
   "version": "3.9.7"
  }
 },
 "nbformat": 4,
 "nbformat_minor": 2
}
