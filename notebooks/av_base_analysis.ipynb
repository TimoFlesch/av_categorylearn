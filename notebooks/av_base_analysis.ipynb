{
 "cells": [
  {
   "cell_type": "code",
   "execution_count": 52,
   "metadata": {},
   "outputs": [
    {
     "name": "stdout",
     "output_type": "stream",
     "text": [
      "The autoreload extension is already loaded. To reload it, use:\n",
      "  %reload_ext autoreload\n"
     ]
    }
   ],
   "source": [
    "%load_ext autoreload\n",
    "%autoreload 2\n",
    "import warnings\n",
    "warnings.filterwarnings('ignore')\n",
    "import os \n",
    "import sys \n",
    "import pickle\n",
    "root_path = os.path.realpath('../')\n",
    "sys.path.append(root_path)\n",
    "\n",
    "from utils.parser import parse_alldata\n",
    "from utils.analysis import print_testacc, print_ttest_acc, compute_choicemats, fit_sigmoids_to_choices, gen_choicemodelrdms, stats_fit_choicerdms,fit_model_to_subjects\n",
    "from utils.plotting import disp_accuracy, disp_lcurves, disp_sigmoid_fits, disp_param_estimates, disp_choicemats, disp_rsa_param_estimates, disp_model_estimates\n"
   ]
  },
  {
   "cell_type": "markdown",
   "metadata": {},
   "source": [
    "## Parameters"
   ]
  },
  {
   "cell_type": "code",
   "execution_count": 54,
   "metadata": {},
   "outputs": [],
   "source": [
    "# set a few parameters \n",
    "%matplotlib qt\n",
    "working_dir = os.getcwd()\n",
    "data_dir = working_dir + \"/../data/animals_vehicles_1_base/\"\n",
    "\n",
    "domains = ['animals','vehicles']\n",
    "curricula = ['blocked','interleaved']\n"
   ]
  },
  {
   "cell_type": "markdown",
   "metadata": {},
   "source": [
    "# Data Import"
   ]
  },
  {
   "cell_type": "code",
   "execution_count": 55,
   "metadata": {},
   "outputs": [],
   "source": [
    "# parse data \n",
    "try:\n",
    "    with open(data_dir+\"parsed/\"+\"animals_vehicles_pilot.pkl\",\"rb\") as f:\n",
    "        alldata = pickle.load(f)\n",
    "except FileNotFoundError:\n",
    "    alldata = parse_alldata(data_dir+\"raw/\")\n",
    "    from utils.parser import boundary_to_nan\n",
    "    alldata = boundary_to_nan(alldata)\n",
    "    with open(data_dir+\"parsed/\"+\"animals_vehicles_pilot.pkl\",\"wb\") as f:\n",
    "        pickle.dump(alldata,f)\n",
    "    \n"
   ]
  },
  {
   "cell_type": "markdown",
   "metadata": {},
   "source": [
    "# Analysis"
   ]
  },
  {
   "cell_type": "markdown",
   "metadata": {},
   "source": [
    "## Accuracy"
   ]
  },
  {
   "cell_type": "markdown",
   "metadata": {},
   "source": [
    "### calculate accuracy and test for between group differences"
   ]
  },
  {
   "cell_type": "code",
   "execution_count": 96,
   "metadata": {},
   "outputs": [
    {
     "name": "stdout",
     "output_type": "stream",
     "text": [
      "** Accuracy on base task **\n",
      "only good subjects (n=94): animals, blocked: 0.78\n",
      "only good subjects (n=99): animals, interleaved: 0.75\n",
      "only good subjects (n=96): vehicles, blocked: 0.82\n",
      "only good subjects (n=99): vehicles, interleaved: 0.82\n",
      "** mann whitney u on base task **\n",
      "only good subjects: animals, blocked vs interleaved: p= 0.078\n",
      "only good subjects: vehicles, blocked vs interleaved: p= 0.727\n",
      "\n",
      "\n"
     ]
    }
   ],
   "source": [
    "\n",
    "print_testacc(alldata,onlygood=True, whichtask=\"base\")\n",
    "print_ttest_acc(alldata, onlygood=True, whichtask=\"base\")\n",
    "print('\\n')\n"
   ]
  },
  {
   "cell_type": "code",
   "execution_count": 57,
   "metadata": {},
   "outputs": [],
   "source": [
    "# plot test accuracy\n",
    "disp_accuracy(alldata,'animals')\n",
    "disp_accuracy(alldata,'vehicles')\n",
    "        \n"
   ]
  },
  {
   "cell_type": "code",
   "execution_count": 58,
   "metadata": {},
   "outputs": [],
   "source": [
    "# learning curves\n",
    "disp_lcurves(alldata)\n",
    "\n"
   ]
  },
  {
   "cell_type": "markdown",
   "metadata": {},
   "source": [
    "## Choice Patterns"
   ]
  },
  {
   "cell_type": "code",
   "execution_count": 66,
   "metadata": {},
   "outputs": [],
   "source": [
    "choicemats = compute_choicemats(alldata)"
   ]
  },
  {
   "cell_type": "markdown",
   "metadata": {},
   "source": [
    "### display sigmoids for rel and irrel dimensions "
   ]
  },
  {
   "cell_type": "code",
   "execution_count": 93,
   "metadata": {},
   "outputs": [],
   "source": [
    "betas = fit_sigmoids_to_choices(choicemats,onlygood=True,fitlapse=False)\n",
    "disp_sigmoid_fits(choicemats,betas, onlygood=True)"
   ]
  },
  {
   "cell_type": "code",
   "execution_count": 97,
   "metadata": {},
   "outputs": [],
   "source": [
    "# stats on estimated slopes\n",
    "disp_param_estimates(betas,onlygood=True)"
   ]
  },
  {
   "cell_type": "markdown",
   "metadata": {},
   "source": [
    "### display full choice matrices"
   ]
  },
  {
   "cell_type": "code",
   "execution_count": 60,
   "metadata": {},
   "outputs": [],
   "source": [
    "disp_choicemats(choicemats,onlygood=True)"
   ]
  },
  {
   "cell_type": "markdown",
   "metadata": {},
   "source": [
    "## Choice Pattern RSA\n"
   ]
  },
  {
   "cell_type": "code",
   "execution_count": 62,
   "metadata": {},
   "outputs": [],
   "source": [
    "_ = gen_choicemodelrdms(monitor=True)"
   ]
  },
  {
   "cell_type": "code",
   "execution_count": 63,
   "metadata": {},
   "outputs": [],
   "source": [
    "betas = stats_fit_choicerdms(choicemats,onlygood=True)\n",
    "disp_rsa_param_estimates(betas,onlygood=True)"
   ]
  },
  {
   "cell_type": "markdown",
   "metadata": {},
   "source": [
    "## Choice Model\n"
   ]
  },
  {
   "cell_type": "code",
   "execution_count": 64,
   "metadata": {},
   "outputs": [],
   "source": [
    "thetas = fit_model_to_subjects(choicemats,onlygood=True)"
   ]
  },
  {
   "cell_type": "code",
   "execution_count": 98,
   "metadata": {},
   "outputs": [],
   "source": [
    "# stats on estimated slopes\n",
    "disp_model_estimates(thetas)"
   ]
  }
 ],
 "metadata": {
  "interpreter": {
   "hash": "64f815fd2451323d4058f316d300a9f90cf7498de98c2d0f836409ae17c2e5a0"
  },
  "kernelspec": {
   "display_name": "Python 3",
   "language": "python",
   "name": "python3"
  },
  "language_info": {
   "codemirror_mode": {
    "name": "ipython",
    "version": 3
   },
   "file_extension": ".py",
   "mimetype": "text/x-python",
   "name": "python",
   "nbconvert_exporter": "python",
   "pygments_lexer": "ipython3",
   "version": "3.9.7"
  }
 },
 "nbformat": 4,
 "nbformat_minor": 2
}
