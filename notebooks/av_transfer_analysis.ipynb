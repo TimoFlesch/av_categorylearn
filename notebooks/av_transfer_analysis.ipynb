{
 "cells": [
  {
   "cell_type": "code",
   "execution_count": 197,
   "metadata": {},
   "outputs": [
    {
     "name": "stdout",
     "output_type": "stream",
     "text": [
      "The autoreload extension is already loaded. To reload it, use:\n",
      "  %reload_ext autoreload\n"
     ]
    }
   ],
   "source": [
    "%load_ext autoreload\n",
    "%autoreload 2\n",
    "import warnings\n",
    "warnings.filterwarnings('ignore')\n",
    "import os \n",
    "import sys \n",
    "import pickle\n",
    "root_path = os.path.realpath('../')\n",
    "sys.path.append(root_path)\n",
    "\n",
    "from utils.parser import parse_alldata\n",
    "from utils.analysis import print_testacc, print_ttest_acc, compute_choicemats, fit_sigmoids_to_choices, gen_choicemodelrdms, stats_fit_choicerdms,fit_model_to_subjects\n",
    "from utils.plotting import disp_accuracy, disp_lcurves, disp_sigmoid_fits, disp_param_estimates, disp_choicemats, disp_rsa_param_estimates, disp_model_estimates, disp_lcurves_test\n"
   ]
  },
  {
   "cell_type": "markdown",
   "metadata": {},
   "source": [
    "## Parameters"
   ]
  },
  {
   "cell_type": "code",
   "execution_count": 201,
   "metadata": {},
   "outputs": [],
   "source": [
    "# set a few parameters \n",
    "%matplotlib qt\n",
    "working_dir = os.getcwd()\n",
    "data_dir = working_dir + \"/../data/animals_vehicles_2_transfer/\"\n",
    "\n",
    "domains = ['animals','vehicles']\n",
    "curricula = ['blocked','interleaved']\n",
    "\n"
   ]
  },
  {
   "cell_type": "markdown",
   "metadata": {},
   "source": [
    "# Data Import"
   ]
  },
  {
   "cell_type": "code",
   "execution_count": 199,
   "metadata": {},
   "outputs": [
    {
     "name": "stdout",
     "output_type": "stream",
     "text": [
      "parsed 0/198 files\n",
      "parsed 19/198 files\n",
      "parsed 20/198 files\n",
      "parsed 39/198 files\n",
      "parsed 40/198 files\n",
      "parsed 59/198 files\n",
      "parsed 60/198 files\n",
      "parsed 79/198 files\n",
      "parsed 80/198 files\n",
      "parsed 99/198 files\n",
      "parsed 118/198 files\n",
      "parsed 119/198 files\n",
      "parsed 138/198 files\n",
      "parsed 139/198 files\n",
      "parsed 158/198 files\n",
      "parsed 159/198 files\n",
      "parsed 178/198 files\n",
      "parsed 179/198 files\n"
     ]
    }
   ],
   "source": [
    "# parse data \n",
    "try:\n",
    "    with open(data_dir+\"parsed/\"+\"animals_vehicles_transfer.pkl\",\"rb\") as f:\n",
    "        alldata = pickle.load(f)\n",
    "except FileNotFoundError:\n",
    "    alldata = parse_alldata(data_dir+\"raw/\",transfertask=True, arenatask=True)\n",
    "    from utils.parser import boundary_to_nan\n",
    "    alldata = boundary_to_nan(alldata)\n",
    "    with open(data_dir+\"parsed/\"+\"animals_vehicles_transfer.pkl\",\"wb\") as f:\n",
    "        pickle.dump(alldata,f)\n",
    "    \n"
   ]
  },
  {
   "cell_type": "markdown",
   "metadata": {},
   "source": [
    "# Analysis"
   ]
  },
  {
   "cell_type": "markdown",
   "metadata": {},
   "source": [
    "## Accuracy"
   ]
  },
  {
   "cell_type": "markdown",
   "metadata": {},
   "source": [
    "### accuracy differences between groups at test"
   ]
  },
  {
   "cell_type": "code",
   "execution_count": 220,
   "metadata": {},
   "outputs": [
    {
     "name": "stdout",
     "output_type": "stream",
     "text": [
      "** Accuracy on base task **\n",
      "only good subjects (n=49): animals, blocked: 0.77\n",
      "only good subjects (n=50): animals, interleaved: 0.79\n",
      "only good subjects (n=49): vehicles, blocked: 0.79\n",
      "only good subjects (n=48): vehicles, interleaved: 0.81\n",
      "** mann whitney u on base task **\n",
      "only good subjects: animals, blocked vs interleaved: p= 0.451\n",
      "only good subjects: vehicles, blocked vs interleaved: p= 0.726\n",
      "\n",
      "\n",
      "** Accuracy on transfer task **\n",
      "only good subjects (n=49): animals, blocked: 0.56\n",
      "only good subjects (n=50): animals, interleaved: 0.53\n",
      "only good subjects (n=49): vehicles, blocked: 0.63\n",
      "only good subjects (n=48): vehicles, interleaved: 0.58\n",
      "** mann whitney u on transfer task **\n",
      "only good subjects: animals, blocked vs interleaved: p= 0.175\n",
      "only good subjects: vehicles, blocked vs interleaved: p= 0.045\n"
     ]
    }
   ],
   "source": [
    "\n",
    "print_testacc(alldata,onlygood=True, whichtask=\"base\")\n",
    "print_ttest_acc(alldata, onlygood=True, whichtask=\"base\")\n",
    "print('\\n')\n",
    "print_testacc(alldata,onlygood=True, whichtask=\"transfer\")\n",
    "print_ttest_acc(alldata, onlygood=True, whichtask=\"transfer\")"
   ]
  },
  {
   "cell_type": "code",
   "execution_count": 202,
   "metadata": {},
   "outputs": [],
   "source": [
    "# plot test accuracy\n",
    "disp_accuracy(alldata,'animals',whichtask=\"base\")\n",
    "disp_accuracy(alldata,'vehicles',whichtask=\"base\")\n",
    "        \n",
    "disp_accuracy(alldata,'animals',whichtask=\"transfer\")\n",
    "disp_accuracy(alldata,'vehicles',whichtask=\"transfer\")\n"
   ]
  },
  {
   "cell_type": "code",
   "execution_count": 203,
   "metadata": {},
   "outputs": [],
   "source": [
    "# learning curves\n",
    "disp_lcurves(alldata,onlygood=True)"
   ]
  },
  {
   "cell_type": "code",
   "execution_count": 204,
   "metadata": {},
   "outputs": [],
   "source": [
    "disp_lcurves_test(alldata,onlygood=True, whichtask=\"base\")"
   ]
  },
  {
   "cell_type": "code",
   "execution_count": 205,
   "metadata": {},
   "outputs": [],
   "source": [
    "disp_lcurves_test(alldata,onlygood=True, whichtask=\"transfer\")"
   ]
  },
  {
   "cell_type": "markdown",
   "metadata": {},
   "source": [
    "## Choice Patterns"
   ]
  },
  {
   "cell_type": "code",
   "execution_count": 206,
   "metadata": {},
   "outputs": [],
   "source": [
    "choicemats = compute_choicemats(alldata, whichtask=\"base\")"
   ]
  },
  {
   "cell_type": "markdown",
   "metadata": {},
   "source": [
    "### display sigmoids for rel and irrel dimensions "
   ]
  },
  {
   "cell_type": "code",
   "execution_count": 209,
   "metadata": {},
   "outputs": [],
   "source": [
    "choicemats = compute_choicemats(alldata, whichtask=\"base\")\n",
    "betas = fit_sigmoids_to_choices(choicemats,onlygood=True, fitlapse=False)\n",
    "disp_sigmoid_fits(choicemats,betas, onlygood=True)\n",
    "# stats on estimated slopes\n",
    "disp_param_estimates(betas,onlygood=True)"
   ]
  },
  {
   "cell_type": "code",
   "execution_count": 210,
   "metadata": {},
   "outputs": [],
   "source": [
    "choicemats = compute_choicemats(alldata, whichtask=\"transfer\")\n",
    "betas = fit_sigmoids_to_choices(choicemats,onlygood=True, fitlapse=False)\n",
    "disp_sigmoid_fits(choicemats,betas, onlygood=True)\n",
    "# stats on estimated slopes\n",
    "disp_param_estimates(betas,onlygood=True)"
   ]
  },
  {
   "cell_type": "markdown",
   "metadata": {},
   "source": [
    "### display full choice matrices"
   ]
  },
  {
   "cell_type": "code",
   "execution_count": 211,
   "metadata": {},
   "outputs": [],
   "source": [
    "choicemats = compute_choicemats(alldata, whichtask=\"base\")\n",
    "disp_choicemats(choicemats,onlygood=True,whichtask=\"base\")"
   ]
  },
  {
   "cell_type": "code",
   "execution_count": 212,
   "metadata": {},
   "outputs": [],
   "source": [
    "choicemats = compute_choicemats(alldata, whichtask=\"transfer\")\n",
    "disp_choicemats(choicemats,onlygood=True,whichtask=\"transfer\")"
   ]
  },
  {
   "cell_type": "markdown",
   "metadata": {},
   "source": [
    "## Choice Pattern RSA\n"
   ]
  },
  {
   "cell_type": "code",
   "execution_count": 140,
   "metadata": {},
   "outputs": [
    {
     "data": {
      "image/png": "[encoded data removed]",
      "text/plain": [
       "<Figure size 720x360 with 2 Axes>"
      ]
     },
     "metadata": {
      "needs_background": "light"
     },
     "output_type": "display_data"
    },
    {
     "data": {
      "image/png": "[encoded data removed]",
      "text/plain": [
       "<Figure size 720x360 with 2 Axes>"
      ]
     },
     "metadata": {
      "needs_background": "light"
     },
     "output_type": "display_data"
    }
   ],
   "source": [
    "_ = gen_choicemodelrdms(monitor=True)"
   ]
  },
  {
   "cell_type": "code",
   "execution_count": 215,
   "metadata": {},
   "outputs": [],
   "source": [
    "choicemats = compute_choicemats(alldata, whichtask=\"base\")\n",
    "betas = stats_fit_choicerdms(choicemats,onlygood=True)\n",
    "disp_rsa_param_estimates(betas,onlygood=True)"
   ]
  },
  {
   "cell_type": "code",
   "execution_count": 216,
   "metadata": {},
   "outputs": [
    {
     "name": "stdout",
     "output_type": "stream",
     "text": [
      "animals blocked 15\n",
      "animals blocked 22\n",
      "vehicles blocked 1\n",
      "vehicles blocked 45\n"
     ]
    }
   ],
   "source": [
    "choicemats = compute_choicemats(alldata, whichtask=\"transfer\")\n",
    "betas = stats_fit_choicerdms(choicemats,onlygood=True)\n",
    "disp_rsa_param_estimates(betas,onlygood=True)"
   ]
  },
  {
   "cell_type": "markdown",
   "metadata": {},
   "source": [
    "## Choice Model\n"
   ]
  },
  {
   "cell_type": "code",
   "execution_count": 217,
   "metadata": {},
   "outputs": [],
   "source": [
    "choicemats = compute_choicemats(alldata, whichtask=\"base\")\n",
    "thetas = fit_model_to_subjects(choicemats,onlygood=True)"
   ]
  },
  {
   "cell_type": "code",
   "execution_count": 218,
   "metadata": {},
   "outputs": [],
   "source": [
    "# stats on estimated slopes\n",
    "disp_model_estimates(thetas)"
   ]
  },
  {
   "cell_type": "code",
   "execution_count": 219,
   "metadata": {},
   "outputs": [],
   "source": [
    "choicemats = compute_choicemats(alldata, whichtask=\"transfer\")\n",
    "thetas = fit_model_to_subjects(choicemats,onlygood=True)\n",
    "# stats on estimated slopes\n",
    "disp_model_estimates(thetas)"
   ]
  }
 ],
 "metadata": {
  "interpreter": {
   "hash": "64f815fd2451323d4058f316d300a9f90cf7498de98c2d0f836409ae17c2e5a0"
  },
  "kernelspec": {
   "display_name": "Python 3",
   "language": "python",
   "name": "python3"
  },
  "language_info": {
   "codemirror_mode": {
    "name": "ipython",
    "version": 3
   },
   "file_extension": ".py",
   "mimetype": "text/x-python",
   "name": "python",
   "nbconvert_exporter": "python",
   "pygments_lexer": "ipython3",
   "version": "3.9.7"
  }
 },
 "nbformat": 4,
 "nbformat_minor": 2
}
