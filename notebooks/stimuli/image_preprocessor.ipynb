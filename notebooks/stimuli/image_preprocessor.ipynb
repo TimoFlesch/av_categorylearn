{
 "cells": [
  {
   "cell_type": "markdown",
   "metadata": {},
   "source": [
    "## Image Preprocessor\n",
    "This script preprocesses all images:\n",
    "1. File names:  \n",
    "in each subfolder (combination of size and speed), retrieve name of species/vehicle and use as prefix to rename image files\n",
    "2. Aspect ratio: crop images from centre so that aspect ratio is 1.5\n",
    "3. Size: resize to 300*200 pixels\n",
    "4. Final rename: create folder called 'stimuli' and add images with (domain)_(size)_(speed)_(num).jpg naming convention"
   ]
  },
  {
   "cell_type": "code",
   "execution_count": 1,
   "metadata": {},
   "outputs": [],
   "source": [
    "import numpy as np\n",
    "from PIL import Image\n",
    "import pandas as pd \n",
    "import matplotlib.pyplot as plt \n",
    "import seaborn as sns\n",
    "import os\n",
    "import shutil\n",
    "from glob import glob\n",
    "import re"
   ]
  },
  {
   "cell_type": "code",
   "execution_count": 2,
   "metadata": {},
   "outputs": [],
   "source": [
    "data_dir = '/media/timo/data/DPHIL_03_TRANSFERLEARN/datasets/grid/animals/'"
   ]
  },
  {
   "cell_type": "markdown",
   "metadata": {},
   "source": [
    "### playground"
   ]
  },
  {
   "cell_type": "code",
   "execution_count": 3,
   "metadata": {},
   "outputs": [],
   "source": [
    "\n",
    "# subfolders = os.listdir(data_dir)\n",
    "# for ii,sf in enumerate(subfolders):\n",
    "#     # retrieve name of animal/vehicle \n",
    "#     if len(os.listdir(data_dir + sf)):\n",
    "#         fname = os.listdir(data_dir + sf)[0]         \n",
    "#         # retrieve names of image files \n",
    "#         imfiles = os.listdir(data_dir + sf + '/' + fname)\n",
    "#         impath = data_dir + sf + '/' + fname + '/'\n",
    "#         # rename image files \n",
    "#         for jj, img in enumerate(imfiles):\n",
    "#             os.rename(impath +img, impath + '../' + fname + str(jj+1) + '.jpg')\n",
    "# #             shutil.rmtree(impath)\n",
    "        \n"
   ]
  },
  {
   "cell_type": "code",
   "execution_count": 40,
   "metadata": {},
   "outputs": [],
   "source": [
    "\n",
    "# data_dir = '/media/timo/data/DPHIL_03_TRANSFERLEARN/datasets/grid/animals/'\n",
    "# subfolders = os.listdir(data_dir)\n",
    "# for sf in subfolders:\n",
    "#     rsfiles = glob(data_dir + sf + '/' + 'rs_*')\n",
    "#     for f in rsfiles:\n",
    "#         os.remove(f)"
   ]
  },
  {
   "cell_type": "code",
   "execution_count": 50,
   "metadata": {},
   "outputs": [
    {
     "name": "stdout",
     "output_type": "stream",
     "text": [
      "['rs_Sportscar', '12', '.jpg']\n",
      "['rs_Sportscar', '.jpg']\n"
     ]
    }
   ],
   "source": [
    "\n",
    "print(re.split('(\\d+)','rs_Sportscar12.jpg'))\n",
    "print(re.split('\\d+','rs_Sportscar12.jpg'))"
   ]
  },
  {
   "cell_type": "code",
   "execution_count": 49,
   "metadata": {},
   "outputs": [
    {
     "data": {
      "text/plain": [
       "'rs_Sportscar'"
      ]
     },
     "execution_count": 49,
     "metadata": {},
     "output_type": "execute_result"
    }
   ],
   "source": [
    "re.split('\\d+','rs_Sportscar12.jpg')[0]"
   ]
  },
  {
   "cell_type": "markdown",
   "metadata": {},
   "source": [
    "## example stimulus grids"
   ]
  },
  {
   "cell_type": "code",
   "execution_count": 3,
   "metadata": {},
   "outputs": [],
   "source": [
    "%matplotlib qt"
   ]
  },
  {
   "cell_type": "code",
   "execution_count": 4,
   "metadata": {},
   "outputs": [],
   "source": [
    "# animals:\n",
    "f,axs = plt.subplots(5,5,figsize=(15,15))\n",
    "axs = axs.ravel() \n",
    "for ax in axs:\n",
    "    ax.set_xticks([])\n",
    "    ax.set_yticks([])\n",
    "plt.suptitle('Animals',fontsize=15,fontweight='bold')\n",
    "data_dir = '/media/timo/data/DPHIL_03_TRANSFERLEARN/datasets/grid/animals/'\n",
    "subfolders = os.listdir(data_dir)\n",
    "for sf,ax in zip(subfolders,axs):\n",
    "    # first image\n",
    "    imfile = os.listdir(data_dir + sf)[0]\n",
    "    # name of species\n",
    "    typ = re.split('\\d+',imfile)[0]\n",
    "    # load image\n",
    "    with Image.open(data_dir+sf+'/'+imfile) as img:\n",
    "        ax.imshow(img)\n",
    "        ax.set_title(sf +'\\n' + typ)\n",
    "    \n",
    "f.tight_layout()"
   ]
  },
  {
   "cell_type": "code",
   "execution_count": 5,
   "metadata": {},
   "outputs": [],
   "source": [
    "# vehicles:\n",
    "f,axs = plt.subplots(5,5,figsize=(15,15))\n",
    "axs = axs.ravel() \n",
    "for ax in axs:\n",
    "    ax.set_xticks([])\n",
    "    ax.set_yticks([])\n",
    "plt.suptitle('Vehicles',fontsize=15,fontweight='bold')\n",
    "data_dir = '/media/timo/data/DPHIL_03_TRANSFERLEARN/datasets/grid/vehicles/'\n",
    "subfolders = os.listdir(data_dir)\n",
    "for sf,ax in zip(subfolders,axs):\n",
    "    # first image\n",
    "    imfile = os.listdir(data_dir + sf)[0]\n",
    "    # name of species\n",
    "    typ = re.split('\\d+',imfile)[0]\n",
    "    # load image\n",
    "    with Image.open(data_dir+sf+'/'+imfile) as img:\n",
    "        ax.imshow(img)\n",
    "        ax.set_title(sf +'\\n' + typ)\n",
    "    \n",
    "plt.tight_layout()"
   ]
  },
  {
   "cell_type": "code",
   "execution_count": 80,
   "metadata": {},
   "outputs": [],
   "source": [
    "# im_path = '/media/timo/data/DPHIL_03_TRANSFERLEARN/datasets/grid/'\n",
    "# domains = ['animals','objects']\n",
    "# in_suffix = '_rs'\n",
    "# out_suffix = '_expt'\n",
    "# prefixes = ['an','ve']\n",
    "# out_dir = im_path + domains[0] + out_suffix + '/'\n",
    "# if not os.path.exists(out_dir):\n",
    "#     os.mkdir(out_dir)"
   ]
  },
  {
   "cell_type": "code",
   "execution_count": 81,
   "metadata": {},
   "outputs": [
    {
     "data": {
      "text/plain": [
       "True"
      ]
     },
     "execution_count": 81,
     "metadata": {},
     "output_type": "execute_result"
    }
   ],
   "source": [
    "os.path.exists(out_dir)"
   ]
  },
  {
   "cell_type": "markdown",
   "metadata": {},
   "source": [
    "## crop all images to same aspect ratio\n",
    "Crop all images so that they have an aspect ratio of 1.5"
   ]
  },
  {
   "cell_type": "code",
   "execution_count": 22,
   "metadata": {},
   "outputs": [],
   "source": [
    "def set_widthheight_to_ar(img,w_ref=300,h_ref=200):\n",
    "    '''\n",
    "    computes new width and height given a desired aspect ratio\n",
    "    '''\n",
    "    # get widths and heights     \n",
    "    w2 = np.asarray(img).shape[1]\n",
    "    h2 = np.asarray(img).shape[0]\n",
    "    \n",
    "    # get aspect ratios\n",
    "    ar_ref = w_ref/h_ref\n",
    "    ar2 = w2/h2\n",
    "    \n",
    "    if ar_ref<ar2:\n",
    "        h_new = h2\n",
    "        w_new = w_ref*h2//h_ref\n",
    "    elif ar_ref > ar2:\n",
    "        w_new = w2\n",
    "        h_new = w2*h_ref//w_ref\n",
    "    else:\n",
    "        w_new = w2\n",
    "        h_new = h2\n",
    "    return w_new,h_new\n",
    "\n",
    "def crop_center(img,cropw,croph):\n",
    "    h,w,_ = img.shape\n",
    "    startw = w//2-(cropw//2)\n",
    "    starth = h//2-(croph//2)\n",
    "    return img[starth:starth+croph,startw:startw+cropw,:]\n",
    "\n",
    "\n",
    "def crop_same_aspect(img,w_ref=300,h_ref=300):\n",
    "    '''\n",
    "    crops img so that it has same aspect ratio as between w_ref and h_ref\n",
    "    '''\n",
    "    # get new width and height\n",
    "    w_new,h_new = set_widthheight_to_ar(img,w_ref=w_ref,h_ref=h_ref)\n",
    "    # get centre\n",
    "    return Image.fromarray(crop_center(np.asarray(img),w_new,h_new))\n",
    "    \n",
    "\n",
    "def wrapper_cropimages(data_dir,out_dir):\n",
    "    newprefix = 'ar_'\n",
    "    try:\n",
    "        os.listdir(out_dir)\n",
    "    except:\n",
    "        os.mkdir(out_dir)\n",
    "\n",
    "    subfolders = os.listdir(data_dir)\n",
    "    for ii,sf in enumerate(subfolders):\n",
    "        imfiles = os.listdir(data_dir + sf)\n",
    "        print('working through subfolder ' + sf)    \n",
    "        # create output directory if doesn't exist\n",
    "        try:\n",
    "            os.listdir(out_dir+sf)\n",
    "        except:\n",
    "            os.mkdir(out_dir+sf)\n",
    "        #loop over images and resize\n",
    "        for imname in imfiles:\n",
    "            with Image.open(data_dir+sf+'/'+imname) as img_src:\n",
    "                # copy only the rgb channels\n",
    "                try:\n",
    "                    h,w,c = np.array(img_src).shape\n",
    "                    if c==4:\n",
    "                        img = Image.new(\"RGB\", img_src.size, (255, 255, 255))\n",
    "                        img.paste(img_src, mask=img_src.split()[3]) # 3 is the alpha channel\n",
    "                    else:\n",
    "                        img = img_src.copy()\n",
    "                except:\n",
    "                    img = img_src.convert('RGB')\n",
    "\n",
    "                # change aspect ratio\n",
    "                img = crop_same_aspect(img,w_ref=300,h_ref=200)            \n",
    "                # save with prefix\n",
    "                img.save(out_dir+sf+'/'+newprefix+imname.split('.')[0]+'.jpg',format='JPEG', subsampling=0, quality=100)\n",
    "\n"
   ]
  },
  {
   "cell_type": "code",
   "execution_count": 21,
   "metadata": {},
   "outputs": [
    {
     "name": "stdout",
     "output_type": "stream",
     "text": [
      "working through subfolder size1_speed1\n",
      "working through subfolder size1_speed2\n",
      "working through subfolder size1_speed3\n",
      "working through subfolder size1_speed4\n",
      "working through subfolder size1_speed5\n",
      "working through subfolder size2_speed1\n",
      "working through subfolder size2_speed2\n",
      "working through subfolder size2_speed3\n",
      "working through subfolder size2_speed4\n",
      "working through subfolder size2_speed5\n",
      "working through subfolder size3_speed1\n",
      "working through subfolder size3_speed2\n",
      "working through subfolder size3_speed3\n",
      "working through subfolder size3_speed4\n",
      "working through subfolder size3_speed5\n",
      "working through subfolder size4_speed1\n",
      "working through subfolder size4_speed2\n",
      "working through subfolder size4_speed3\n",
      "working through subfolder size4_speed4\n",
      "working through subfolder size4_speed5\n",
      "working through subfolder size5_speed1\n",
      "working through subfolder size5_speed2\n",
      "working through subfolder size5_speed3\n",
      "working through subfolder size5_speed4\n",
      "working through subfolder size5_speed5\n"
     ]
    }
   ],
   "source": [
    "# animals\n",
    "data_dir = '/media/timo/data/DPHIL_03_TRANSFERLEARN/datasets/grid/animals/'\n",
    "out_dir = '/media/timo/data/DPHIL_03_TRANSFERLEARN/datasets/grid/animals_sameaspect/'\n",
    "wrapper_cropimages(data_dir,out_dir)\n"
   ]
  },
  {
   "cell_type": "code",
   "execution_count": 23,
   "metadata": {},
   "outputs": [
    {
     "name": "stdout",
     "output_type": "stream",
     "text": [
      "working through subfolder size1_speed1\n",
      "working through subfolder size1_speed2\n",
      "working through subfolder size1_speed3\n",
      "working through subfolder size1_speed4\n",
      "working through subfolder size1_speed5\n",
      "working through subfolder size2_speed1\n",
      "working through subfolder size2_speed2\n",
      "working through subfolder size2_speed3\n",
      "working through subfolder size2_speed4\n",
      "working through subfolder size2_speed5\n",
      "working through subfolder size3_speed1\n",
      "working through subfolder size3_speed2\n",
      "working through subfolder size3_speed3\n",
      "working through subfolder size3_speed4\n",
      "working through subfolder size3_speed5\n",
      "working through subfolder size4_speed1\n",
      "working through subfolder size4_speed2\n",
      "working through subfolder size4_speed3\n",
      "working through subfolder size4_speed4\n",
      "working through subfolder size4_speed5\n",
      "working through subfolder size5_speed1\n",
      "working through subfolder size5_speed2\n",
      "working through subfolder size5_speed3\n",
      "working through subfolder size5_speed4\n",
      "working through subfolder size5_speed5\n"
     ]
    }
   ],
   "source": [
    "# vehicles\n",
    "data_dir = '/media/timo/data/DPHIL_03_TRANSFERLEARN/datasets/grid/vehicles/'\n",
    "out_dir = '/media/timo/data/DPHIL_03_TRANSFERLEARN/datasets/grid/vehicles_sameaspect/'\n",
    "wrapper_cropimages(data_dir,out_dir)"
   ]
  },
  {
   "cell_type": "markdown",
   "metadata": {},
   "source": [
    "## resize images"
   ]
  },
  {
   "cell_type": "code",
   "execution_count": 26,
   "metadata": {},
   "outputs": [],
   "source": [
    "def wrapper_resize_images(data_dir,out_dir,newWidth,newprefix):\n",
    "    try:\n",
    "        os.listdir(out_dir)\n",
    "    except:\n",
    "        os.mkdir(out_dir)\n",
    "    subfolders = os.listdir(data_dir)\n",
    "    for ii,sf in enumerate(subfolders):\n",
    "        imfiles = os.listdir(data_dir + sf)\n",
    "        print('working through subfolder ' + sf)    \n",
    "        # create output directory if doesn't exist\n",
    "        try:\n",
    "            os.listdir(out_dir+sf)\n",
    "        except:\n",
    "            os.mkdir(out_dir+sf)\n",
    "        #loop over images and resize\n",
    "        for imname in imfiles:\n",
    "            with Image.open(data_dir+sf+'/'+imname) as img_src:\n",
    "                # copy only the rgb channels\n",
    "                try:\n",
    "                    h,w,c = np.array(img_src).shape\n",
    "                    if c==4:\n",
    "                        img = Image.new(\"RGB\", img_src.size, (255, 255, 255))\n",
    "                        img.paste(img_src, mask=img_src.split()[3]) # 3 is the alpha channel\n",
    "                    else:\n",
    "                        img = img_src.copy()\n",
    "                except:\n",
    "                    img = img_src.convert('RGB')\n",
    "                # get curent size\n",
    "                imsize = img.size\n",
    "                # get resize factor\n",
    "                rf = newWidth/imsize[0]\n",
    "                # set new size\n",
    "                newsize = [int(x*rf) for x in imsize]\n",
    "                img = img.resize(newsize,Image.ANTIALIAS)\n",
    "                # save with prefix\n",
    "                img.save(out_dir+sf+'/'+newprefix+imname.split('.')[0]+'.jpg',format='JPEG', subsampling=0, quality=100)\n",
    "\n"
   ]
  },
  {
   "cell_type": "code",
   "execution_count": 27,
   "metadata": {},
   "outputs": [
    {
     "name": "stdout",
     "output_type": "stream",
     "text": [
      "working through subfolder size1_speed1\n",
      "working through subfolder size1_speed2\n",
      "working through subfolder size1_speed3\n",
      "working through subfolder size1_speed4\n",
      "working through subfolder size1_speed5\n",
      "working through subfolder size2_speed1\n",
      "working through subfolder size2_speed2\n",
      "working through subfolder size2_speed3\n",
      "working through subfolder size2_speed4\n",
      "working through subfolder size2_speed5\n",
      "working through subfolder size3_speed1\n",
      "working through subfolder size3_speed2\n",
      "working through subfolder size3_speed3\n",
      "working through subfolder size3_speed4\n",
      "working through subfolder size3_speed5\n",
      "working through subfolder size4_speed1\n",
      "working through subfolder size4_speed2\n",
      "working through subfolder size4_speed3\n",
      "working through subfolder size4_speed4\n",
      "working through subfolder size4_speed5\n",
      "working through subfolder size5_speed1\n",
      "working through subfolder size5_speed2\n",
      "working through subfolder size5_speed3\n",
      "working through subfolder size5_speed4\n",
      "working through subfolder size5_speed5\n"
     ]
    }
   ],
   "source": [
    "# resize animals\n",
    "data_dir = '/media/timo/data/DPHIL_03_TRANSFERLEARN/datasets/grid/animals_sameaspect/'\n",
    "out_dir = '/media/timo/data/DPHIL_03_TRANSFERLEARN/datasets/grid/animals_resized/'\n",
    "newWidth = 300 # 300 pixels\n",
    "newprefix = 'rs_'\n",
    "wrapper_resize_images(data_dir,out_dir,newWidth,newprefix)"
   ]
  },
  {
   "cell_type": "code",
   "execution_count": 28,
   "metadata": {},
   "outputs": [
    {
     "name": "stdout",
     "output_type": "stream",
     "text": [
      "working through subfolder size1_speed1\n",
      "working through subfolder size1_speed2\n",
      "working through subfolder size1_speed3\n",
      "working through subfolder size1_speed4\n",
      "working through subfolder size1_speed5\n",
      "working through subfolder size2_speed1\n",
      "working through subfolder size2_speed2\n",
      "working through subfolder size2_speed3\n",
      "working through subfolder size2_speed4\n",
      "working through subfolder size2_speed5\n",
      "working through subfolder size3_speed1\n",
      "working through subfolder size3_speed2\n",
      "working through subfolder size3_speed3\n",
      "working through subfolder size3_speed4\n",
      "working through subfolder size3_speed5\n",
      "working through subfolder size4_speed1\n",
      "working through subfolder size4_speed2\n",
      "working through subfolder size4_speed3\n",
      "working through subfolder size4_speed4\n",
      "working through subfolder size4_speed5\n",
      "working through subfolder size5_speed1\n",
      "working through subfolder size5_speed2\n",
      "working through subfolder size5_speed3\n",
      "working through subfolder size5_speed4\n",
      "working through subfolder size5_speed5\n"
     ]
    }
   ],
   "source": [
    "# resize vehicles\n",
    "data_dir = '/media/timo/data/DPHIL_03_TRANSFERLEARN/datasets/grid/vehicles_sameaspect/'\n",
    "out_dir = '/media/timo/data/DPHIL_03_TRANSFERLEARN/datasets/grid/vehicles_resized/'\n",
    "newWidth = 300 # 300 pixels\n",
    "newprefix = 'rs_'\n",
    "wrapper_resize_images(data_dir,out_dir,newWidth,newprefix)"
   ]
  },
  {
   "cell_type": "code",
   "execution_count": 38,
   "metadata": {},
   "outputs": [
    {
     "name": "stdout",
     "output_type": "stream",
     "text": [
      "working through subfolder size1_speed1\n",
      "working through subfolder size1_speed2\n",
      "working through subfolder size1_speed3\n",
      "working through subfolder size1_speed4\n",
      "working through subfolder size1_speed5\n",
      "working through subfolder size2_speed1\n",
      "working through subfolder size2_speed2\n",
      "working through subfolder size2_speed3\n",
      "working through subfolder size2_speed4\n",
      "working through subfolder size2_speed5\n",
      "working through subfolder size3_speed1\n",
      "working through subfolder size3_speed2\n",
      "working through subfolder size3_speed3\n",
      "working through subfolder size3_speed4\n",
      "working through subfolder size3_speed5\n",
      "working through subfolder size4_speed1\n",
      "working through subfolder size4_speed2\n",
      "working through subfolder size4_speed3\n",
      "working through subfolder size4_speed4\n",
      "working through subfolder size4_speed5\n",
      "working through subfolder size5_speed1\n",
      "working through subfolder size5_speed2\n",
      "working through subfolder size5_speed3\n",
      "working through subfolder size5_speed4\n",
      "working through subfolder size5_speed5\n"
     ]
    }
   ],
   "source": [
    "# same for vehicles\n",
    "data_dir = '/media/timo/data/DPHIL_03_TRANSFERLEARN/datasets/grid/vehicles/'\n",
    "out_dir = '/media/timo/data/DPHIL_03_TRANSFERLEARN/datasets/grid/vehicles_rs/'\n",
    "newWidth = 300 # 300 pixels\n",
    "newprefix = 'rs_'\n",
    "\n",
    "subfolders = os.listdir(data_dir)\n",
    "for ii,sf in enumerate(subfolders):\n",
    "    imfiles = os.listdir(data_dir + sf)\n",
    "    print('working through subfolder ' + sf)    \n",
    "    # create output directory if doesn't exist\n",
    "    try:\n",
    "        os.listdir(out_dir+sf)\n",
    "    except:\n",
    "        os.mkdir(out_dir+sf)\n",
    "    #loop over images and resize\n",
    "    for imname in imfiles:\n",
    "        with Image.open(data_dir+sf+'/'+imname) as img_src:\n",
    "            # copy only the rgb channels\n",
    "            try:\n",
    "                h,w,c = np.array(img_src).shape\n",
    "                if c==4:\n",
    "                    img = Image.new(\"RGB\", img_src.size, (255, 255, 255))\n",
    "                    img.paste(img_src, mask=img_src.split()[3]) # 3 is the alpha channel\n",
    "                else:\n",
    "                    img = img_src.copy()\n",
    "            except:\n",
    "                img = img_src.convert('RGB')\n",
    "            # get curent size\n",
    "            imsize = img.size\n",
    "            # get resize factor\n",
    "            rf = newWidth/imsize[0]\n",
    "            # set new size\n",
    "            newsize = [int(x*rf) for x in imsize]\n",
    "            img = img.resize(newsize,Image.ANTIALIAS)\n",
    "            # save with prefix\n",
    "            img.save(out_dir+sf+'/'+newprefix+imname.split('.')[0]+'.jpg',format='JPEG', subsampling=0, quality=100)\n",
    "            \n",
    "            "
   ]
  },
  {
   "cell_type": "code",
   "execution_count": null,
   "metadata": {},
   "outputs": [],
   "source": []
  },
  {
   "cell_type": "markdown",
   "metadata": {},
   "source": [
    "## rename files for js expt\n",
    "replace species name with size/speed vals and domain prefix"
   ]
  },
  {
   "cell_type": "code",
   "execution_count": 31,
   "metadata": {},
   "outputs": [],
   "source": [
    "im_path = '/media/timo/data/DPHIL_03_TRANSFERLEARN/datasets/grid/'\n",
    "domains = ['animals','vehicles']\n",
    "in_suffix = '_resized'\n",
    "stim_dir = 'stimuli_final'\n",
    "prefixes = ['an','ve']\n",
    "n_img_per_cat = 10 # how many images max per category\n",
    "out_path = im_path + stim_dir + '/'\n",
    "if not os.path.exists(out_path):\n",
    "    os.mkdir(out_path)\n",
    "\n",
    "for idx,dom in enumerate(domains):\n",
    "    proj_path = im_path + dom + in_suffix + '/'    \n",
    "    # obtain names of all subfolders (size x speed)\n",
    "    subfolders = os.listdir(proj_path)\n",
    "    # loop over subfolders \n",
    "    for sf in subfolders:\n",
    "        # loop over images \n",
    "        images = os.listdir(proj_path + sf)\n",
    "        for img in images:\n",
    "            imgnum = re.split('(\\d+)',img)[1]\n",
    "            stim_in = proj_path+sf+'/'+img\n",
    "            stim_out = out_path+prefixes[idx]+'_'+sf+'_'+imgnum+'.jpg'\n",
    "            if int(imgnum) <=n_img_per_cat:\n",
    "                shutil.copy(stim_in,stim_out)\n",
    "            \n",
    "    \n",
    "\n"
   ]
  },
  {
   "cell_type": "code",
   "execution_count": null,
   "metadata": {},
   "outputs": [],
   "source": []
  }
 ],
 "metadata": {
  "kernelspec": {
   "display_name": "Python 3",
   "language": "python",
   "name": "python3"
  },
  "language_info": {
   "codemirror_mode": {
    "name": "ipython",
    "version": 3
   },
   "file_extension": ".py",
   "mimetype": "text/x-python",
   "name": "python",
   "nbconvert_exporter": "python",
   "pygments_lexer": "ipython3",
   "version": "3.7.9"
  }
 },
 "nbformat": 4,
 "nbformat_minor": 4
}
