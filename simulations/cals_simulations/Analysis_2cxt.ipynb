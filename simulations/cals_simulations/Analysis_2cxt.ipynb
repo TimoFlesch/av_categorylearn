{
 "cells": [
  {
   "cell_type": "code",
   "execution_count": 18,
   "metadata": {},
   "outputs": [],
   "source": [
    "import numpy as np\n",
    "from sklearn import linear_model\n",
    "from scipy.stats import zscore\n",
    "from scipy.spatial.distance import squareform,pdist\n",
    "import pickle\n",
    "import matplotlib.pyplot as plt"
   ]
  },
  {
   "cell_type": "code",
   "execution_count": 22,
   "metadata": {},
   "outputs": [],
   "source": [
    "N_RUNS = 10\n",
    "\n",
    "def load_data(fn):\n",
    "    with open('./results/' + fn,'rb') as f:    \n",
    "        data = pickle.load(f)\n",
    "    return data\n",
    "\n",
    "def gen_modelrdms(monitor=0):\n",
    "    '''\n",
    "    generates model rdms\n",
    "    returns design matrix (z-scored lower triangular of mod rdms) & mod rdms\n",
    "    '''\n",
    "    ## model rdms:\n",
    "    a,b = np.meshgrid(np.linspace(-2,2,5),np.linspace(-2,2,5))\n",
    "    # grid model\n",
    "    gridm = np.concatenate((a.flatten()[np.newaxis,:],b.flatten()[np.newaxis,:]),axis=0).T\n",
    "    ctx = np.concatenate((np.ones((25,1)),np.zeros((25,1))),axis=0).reshape(50,1)\n",
    "    gridm = np.concatenate((np.tile(gridm,(2,1)),ctx),axis=1)\n",
    "    grid_rdm = squareform(pdist(gridm,metric='euclidean'))\n",
    "    # orthogonal model\n",
    "    orthm = np.concatenate((np.concatenate((a.flatten()[np.newaxis,:],np.zeros((1,25))),axis=0).T,\n",
    "                            np.concatenate((np.zeros((1,25)),b.flatten()[np.newaxis,:]),axis=0).T),axis=0)\n",
    "    orthm = np.concatenate((orthm,ctx),axis=1)\n",
    "    orth_rdm = squareform(pdist(orthm,metric='euclidean'))\n",
    "    # parallel model \n",
    "       \n",
    "    a = a.flatten()\n",
    "    b = b.flatten()\n",
    "    ta = np.stack((a,np.zeros((25))),axis=1)\n",
    "    tb = np.stack((np.zeros(25),b),axis=1)\n",
    "    theta = np.radians(-90)\n",
    "    c, s = np.cos(theta), np.sin(theta)\n",
    "    R = np.array(((c, -s), (s, c)))\n",
    "    parm = np.concatenate((ta.dot(R),tb),axis=0)\n",
    "    parm = np.concatenate((parm,ctx),axis=1)\n",
    "    par_rdm = squareform(pdist(parm,metric='euclidean'))\n",
    "     \n",
    "    dmat = np.asarray([zscore(grid_rdm[np.tril_indices(50,k=-1)].flatten()),zscore(orth_rdm[np.tril_indices(50,k=-1)].flatten()),zscore(par_rdm[np.tril_indices(50,k=-1)].flatten())]).T\n",
    "    rdms = np.empty((3,50,50))\n",
    "    data_orig = np.empty((3,50,3))\n",
    "    rdms[0] = grid_rdm\n",
    "    rdms[1] = orth_rdm\n",
    "    rdms[2] = par_rdm    \n",
    "    data_orig[0,:,:] = gridm \n",
    "    data_orig[1,:,:] = orthm \n",
    "    data_orig[2,:,:] = parm   \n",
    "    return rdms,dmat,data_orig\n",
    "\n",
    "def stats_fit_rdms(dmat,mlp_rdms):\n",
    "    '''\n",
    "    regresses lower triangular of model rdms against the design \n",
    "    matrix of model rdms at a single run level\n",
    "    '''\n",
    "    regr = linear_model.LinearRegression()\n",
    "    #n_runs = mlp_outputs.shape[0]    \n",
    "    coeffs = np.empty((N_RUNS,dmat.shape[1]))\n",
    "    for ii in range(N_RUNS):    \n",
    "        #rdm = squareform(pdist(mlp_outputs[ii,:,:].T,metric='euclidean'))\n",
    "        rdm = mlp_rdms[ii,:,:]\n",
    "        y  = zscore(rdm[np.tril_indices(50,k=-1)].flatten())\n",
    "        regr.fit(dmat,y)\n",
    "        coeffs[ii,:] = np.asarray(regr.coef_)\n",
    "    return coeffs\n",
    "  \n",
    "def compute_rdm_fits(file_names):\n",
    "    '''\n",
    "    wrapper that loops over simulation files \n",
    "    and performs rdm regression for each individual simulation\n",
    "    '''\n",
    "    _,dmat,_ = gen_modelrdms()\n",
    "    modelfits = np.empty((len(file_names),N_RUNS,dmat.shape[1]))\n",
    "    for ii,fn in enumerate(file_names):\n",
    "        data = load_data(fn)\n",
    "        modelfits[ii,:,:] = stats_fit_rdms(dmat,data[5]) #5 gives second layer fits and 4 gives 1st layer fits\n",
    "    return modelfits\n",
    "def plot_modelfits(file_names,title_strings,model_labels = ['grid','orthogonal','parallel']):\n",
    "    '''\n",
    "    wrapper that loops over individual simulation files,\n",
    "    regresses neural rdms against model rdms \n",
    "    and creates one figure with standardised betas per simulation \n",
    "    (mean + sem across individual runs)\n",
    "    '''\n",
    "    fits = compute_rdm_fits(file_names)\n",
    "    for ii in range(fits.shape[0]):\n",
    "        f_m = np.mean(fits[ii,:,:],0)\n",
    "        f_e = np.std(fits[ii,:,:],0)/np.sqrt(N_RUNS)\n",
    "        plt.figure()\n",
    "        plt.bar(np.arange(len(f_m)),f_m,yerr=f_e)\n",
    "        plt.xticks(ticks=np.arange(0,len(model_labels)),labels=model_labels,fontsize=14)\n",
    "        plt.ylabel('parameter estimate (a.u.)',fontsize=14)\n",
    "        plt.xlabel('Model RDM',fontsize=14)\n",
    "        plt.title(title_strings[ii])"
   ]
  },
  {
   "cell_type": "code",
   "execution_count": 23,
   "metadata": {
    "scrolled": true
   },
   "outputs": [
    {
     "data": {
      "image/png": "[encoded data removed]",
      "text/plain": [
       "<Figure size 432x288 with 1 Axes>"
      ]
     },
     "metadata": {
      "needs_background": "light"
     },
     "output_type": "display_data"
    },
    {
     "data": {
      "image/png": "[encoded data removed]",
      "text/plain": [
       "<Figure size 432x288 with 1 Axes>"
      ]
     },
     "metadata": {
      "needs_background": "light"
     },
     "output_type": "display_data"
    }
   ],
   "source": [
    "file_names = ['2ctxt_nhot', '2ctxt_randortho']\n",
    "title_strings = ['2ctxt nhot encoding', '2ctxt random orthogonal']        \n",
    "plot_modelfits(file_names,title_strings)"
   ]
  }
 ],
 "metadata": {
  "kernelspec": {
   "display_name": "Python 3",
   "language": "python",
   "name": "python3"
  },
  "language_info": {
   "codemirror_mode": {
    "name": "ipython",
    "version": 3
   },
   "file_extension": ".py",
   "mimetype": "text/x-python",
   "name": "python",
   "nbconvert_exporter": "python",
   "pygments_lexer": "ipython3",
   "version": "3.8.5"
  }
 },
 "nbformat": 4,
 "nbformat_minor": 4
}
